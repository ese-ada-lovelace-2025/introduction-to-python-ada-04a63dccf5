{
 "cells": [
  {
   "cell_type": "code",
   "execution_count": 1,
   "metadata": {
    "execution": {
     "iopub.execute_input": "2025-08-13T09:02:05.576034Z",
     "iopub.status.busy": "2025-08-13T09:02:05.575825Z",
     "iopub.status.idle": "2025-08-13T09:02:07.300537Z",
     "shell.execute_reply": "2025-08-13T09:02:07.299943Z"
    }
   },
   "outputs": [],
   "source": [
    "import pybryt\n",
    "from lecture import pybryt_reference"
   ]
  },
  {
   "cell_type": "markdown",
   "metadata": {},
   "source": [
    "# Introduction to Python\n",
    "\n",
    "# Lecture 5\n",
    "\n",
    "## Introduction\n",
    "\n",
    "As we saw in [lecture 4](..\\lecture4\\lecture4.ipynb), Python classes combine a storing data (attributes) and functions (methods) that process that data. They act as a way to create new data types. In the previous lecture, we learned some of the individual features of classes. In this section we will learn to put multiple features together to implement and improve a class based on the functionality we need it to provide.\n",
    "\n",
    "## Example 1: Quaternions\n",
    "\n",
    "Just as complex numbers extend the set of real numbers into a \"two-dimensional\" space, [quaternions](https://en.wikipedia.org/wiki/Quaternion) extend the concept of \"2D\" complex numbers into a \"four-dimensional\" space. Quaternions are used in computer graphics, control theory, signal processing, and orbital mechanics, and more generally in areas involving applying multiple rotations or scalings using floating point arthimetic. In the realm of science, they are also used in physics to describe the quantum spin of a particle. We are going to briefly describe the mathematical properties of quaternions as numbers and then you will work to implement a class to represent them.\n",
    "\n",
    "### Basic Definition\n",
    "\n",
    "A quarterions is an object (viewed as a single number) consisting four real coefficients, say $a$, $b$, $c$, and $d$, along with rules for addition, mutilplication by a scalar, and multiplication by another quaternion. The rules are as follows:\n",
    "\n",
    "1. Addition: \n",
    "  $$(a, b, c, d) + (e, f, g, h) = (a+e, b+f, c+g, d+h)$$\n",
    "2. Multiplication by a scalar:\n",
    "  $$r(a, b, c, d) = (ra, rb, rc, rd)$$\n",
    "3. Multiplication by another quaternion: \n",
    "  $$(a, b, c, d)(e, f, g, h) = (ae - bf - cg - dh, af + be + ch - dg, ag - bh + ce + df, ah + bg - cf + de)$$\n",
    "These rules are enough to define the quaternions as a number system, as well as a [vector space](https://en.wikipedia.org/wiki/Vector_space) over the real numbers.\n",
    "\n",
    "Just as a complex number can be written in the form $a + bi$ (or in Python in a form like `1+2j`), a quaternion can be written in the form $a + bi + cj + dk$. This means they keep both engineers and mathematicians happy by having `i` & `j` both denote complex components of the number.\n",
    "\n",
    "By the rules of multiplication above we have:\n",
    "$$ i^2 = j^2 = k^2 = ijk = -1, $$\n",
    "$$ ij = k, \\quad jk = i, \\quad ki = j. $$\n",
    "In this sense, we can think of the $i$, $j$ and $k$ as three separate complex dimensions.\n",
    "\n",
    "### Implementing Quaternions\n",
    "\n",
    "This is enough information to start implementing a class to represent quaternions. We'll do this in a single cell immediately below. As you work through this section, we'll add more features to the class, and need to re-run the cell to update the class definition. If anything doesn't work or your results get confusing, try restarting the Python kernel and re-running that cell to see it it cleans up the problem.\n",
    "\n",
    "#### The Class Definition cell"
   ]
  },
  {
   "cell_type": "code",
   "execution_count": 19,
   "metadata": {
    "execution": {
     "iopub.execute_input": "2025-08-13T09:02:07.302699Z",
     "iopub.status.busy": "2025-08-13T09:02:07.302442Z",
     "iopub.status.idle": "2025-08-13T09:02:07.306911Z",
     "shell.execute_reply": "2025-08-13T09:02:07.306371Z"
    }
   },
   "outputs": [],
   "source": [
    "# Remember to re-run this cell after you've modified the class below\n",
    "# Carry on reading to see what to implement.\n",
    "import numpy as np\n",
    "\n",
    "\n",
    "class Quaternion:\n",
    "\n",
    "    def __init__(self, a, b, c, d):\n",
    "        \"\"\"Initializes a quaternion with the given values.\n",
    "\n",
    "        The first value is the real part, the rest are the imaginary parts. The imaginary\n",
    "        parts are i, j, and k.  For example, Quaternion(1, 2, 3, 4) represents the\n",
    "        quaternion 1 + 2i + 3j + 4k.\n",
    "\n",
    "        \"\"\"\n",
    "        # Although there are no private attributes in Python, by convention, we use an\n",
    "        # underscore to indicate that an attribute is private and should not be accessed\n",
    "        # directly. This is a convention, and it is not enforced by the language.\n",
    "        \n",
    "        self._1 = a\n",
    "        self._i = b\n",
    "        self._j = c\n",
    "        self._k = d\n",
    "\n",
    "    def __str__(self):\n",
    "        \"\"\"Returns the string representation of the quaternion.\"\"\"\n",
    "\n",
    "        # Helper function to format components\n",
    "        def format_component(value, suffix):\n",
    "            return f\" {'+' if value >= 0 else '-'} {abs(value)}{suffix}\"\n",
    "\n",
    "        # Format each component\n",
    "        components = [\n",
    "            f\"{self._1}\",\n",
    "            format_component(self._i, \"i\"),\n",
    "            format_component(self._j, \"j\"),\n",
    "            format_component(self._k, \"k\"),\n",
    "        ]\n",
    "\n",
    "        return \"\".join(components)\n",
    "    \n",
    "    def __add__(self, other):\n",
    "        \n",
    "        \"\"\"Adds two quaternions component-wise.\"\"\"\n",
    "        if not isinstance(other, Quaternion):\n",
    "            return NotImplemented\n",
    "        return Quaternion(\n",
    "            self._1 + other._1,\n",
    "            self._i + other._i,\n",
    "            self._j + other._j,\n",
    "            self._k + other._k,\n",
    "        )\n",
    "    \n",
    "    def __mul__(self, other):\n",
    "        if isinstance(other, (int, float)):  # scalar multiplication\n",
    "            return Quaternion(\n",
    "                self._1 * other, self._i * other, self._j * other, self._k * other\n",
    "            )\n",
    "        elif isinstance(other, Quaternion):  # Hamilton product\n",
    "            a1, b1, c1, d1 = self._1, self._i, self._j, self._k # i got confused so i had to make them a, b, c, d\n",
    "            a2, b2, c2, d2 = other._1, other._i, other._j, other._k\n",
    "            return Quaternion(\n",
    "                a1*a2 - b1*b2 - c1*c2 - d1*d2,\n",
    "                a1*b2 + b1*a2 + c1*d2 - d1*c2,\n",
    "                a1*c2 - b1*d2 + c1*a2 + d1*b2,\n",
    "                a1*d2 + b1*c2 - c1*b2 + d1*a2\n",
    "            )\n",
    "        else:\n",
    "            return NotImplemented\n",
    "\n",
    "        # for rmul, i used a commutator to swap between them\n",
    "        \n",
    "    def commutator(self, other):\n",
    "        \"\"\"Return [self, other] = self*other - other*self\"\"\"\n",
    "        if not isinstance(other, Quaternion):\n",
    "            raise TypeError(\"Commutator is only defined between two quaternions\")\n",
    "        pq = self * other\n",
    "        qp = other * self\n",
    "        return Quaternion(\n",
    "            pq._1 - qp._1,\n",
    "            pq._i - qp._i,\n",
    "            pq._j - qp._j,\n",
    "            pq._k - qp._k,\n",
    "        )\n",
    "\n",
    "    def __rmul__(self, other):\n",
    "        if isinstance(other, (int, float)):  # scalar * quaternion\n",
    "            return Quaternion(\n",
    "                other * self._1,\n",
    "                other * self._i,\n",
    "                other * self._j,\n",
    "                other * self._k,\n",
    "            )\n",
    "        elif isinstance(other, Quaternion):  # right multiplication via commutator\n",
    "            pq = self * other\n",
    "            comm = self.commutator(other)\n",
    "            return Quaternion(\n",
    "                pq._1 - comm._1,\n",
    "                pq._i - comm._i,\n",
    "                pq._j - comm._j,\n",
    "                pq._k - comm._k,\n",
    "            )\n",
    "        else:\n",
    "            return NotImplemented\n",
    "        \n",
    "    def conjugate(self):\n",
    "        \"\"\"Return the conjugate of the quaternion: a - bi - cj - dk\"\"\"\n",
    "        return Quaternion(self._1, -self._i, -self._j, -self._k)\n",
    "    \n",
    "    def __abs__(self):\n",
    "        \"\"\"Return the magnitude of the quaternion.\"\"\"\n",
    "        return np.sqrt(self._1**2 + self._i**2 + self._j**2 + self._k**2)\n",
    "\n",
    "    def inverse(self):\n",
    "        \"\"\"Return the inverse of the quaternion.\"\"\"\n",
    "        norm_sq = abs(self) ** 2\n",
    "        if norm_sq == 0:\n",
    "            raise ZeroDivisionError(\"Cannot invert a quaternion with zero magnitude\")\n",
    "        conj = self.conjugate()\n",
    "        return Quaternion(\n",
    "            conj._1 / norm_sq,\n",
    "            conj._i / norm_sq,\n",
    "            conj._j / norm_sq,\n",
    "            conj._k / norm_sq,\n",
    "        )"
   ]
  },
  {
   "cell_type": "markdown",
   "metadata": {},
   "source": [
    "As with most classes, the first thing to do is to implement the initialisation method so that we can create new instances of the class from appropriate information. In this case, we've done this for you, and chosen the names of the attributes to be `_1`, `_i`, `_j`, and `_k`.\n",
    "\n",
    "We've also implemented the `__str__` method, which is called when the object is printed (as well as a few other times). This is a good way to check that the initialisation method is working as expected, and we can use it to test the core class initialisation."
   ]
  },
  {
   "cell_type": "code",
   "execution_count": 20,
   "metadata": {
    "execution": {
     "iopub.execute_input": "2025-08-13T09:02:07.319483Z",
     "iopub.status.busy": "2025-08-13T09:02:07.319323Z",
     "iopub.status.idle": "2025-08-13T09:02:07.321942Z",
     "shell.execute_reply": "2025-08-13T09:02:07.321430Z"
    },
    "tags": [
     "nbgrader"
    ]
   },
   "outputs": [],
   "source": [
    "assert str(Quaternion(1, 2, 3, 4)) == \"1 + 2i + 3j + 4k\""
   ]
  },
  {
   "cell_type": "markdown",
   "metadata": {},
   "source": [
    "The cell block above will show no output if the class is implemented correctly. If you see a `NameError`, then make sure that you've run the cell defining the `Quaternion` class. If you see an `AssertionError`, then\n",
    "make sure you haven't changed the initialisation or `__str__` method.\n",
    "\n",
    "### Implementing the Addition Method\n",
    "\n",
    "With the code we've already given you, you'll first need to implement the addition and multiplication methods. The addition method name to use the `+` operator is `__add__`, and it takes two arguments. The first argument is always the object itself (and as with the initialisation and `__str__` methods, it is good practice to use `self` to refer to it). The second argument is the other object being added - the Python convention is to call it `other`. This means the method signature is\n",
    "\n",
    "```python\n",
    "   def __add__(self, other):\n",
    "     # method body ending with a return statement\n",
    "```\n",
    "\n",
    "Add this method to the Quaterion class above, and implement the addition rule\n",
    "\n",
    "$$a+b\\mathit{i}+c\\mathit{j}+d\\mathit{k} + e+f\\mathit{i}+g\\mathit{j}+h\\mathit{k} = a+e+(b+f)\\mathit{i}+(c+g)\\mathit{j}+(d+h)\\mathit{k}.$$\n",
    "\n",
    "Once you're done, we can test the method by adding two quaternions together (Remember to re-run the class cell above after you've made changes to the class definition). If you see a `TypeError`, then check you've added the `__add__` method correctly (and rerun the class cell). One common mistake is geting the wrong amount of white space indentation. If you see an `AssertError` then your returned value isn't right."
   ]
  },
  {
   "cell_type": "code",
   "execution_count": 21,
   "metadata": {
    "execution": {
     "iopub.execute_input": "2025-08-13T09:02:07.323594Z",
     "iopub.status.busy": "2025-08-13T09:02:07.323414Z",
     "iopub.status.idle": "2025-08-13T09:02:07.326743Z",
     "shell.execute_reply": "2025-08-13T09:02:07.326238Z"
    },
    "tags": [
     "nbgrader"
    ]
   },
   "outputs": [],
   "source": [
    "q1 = Quaternion(1, 2, 3, 4)\n",
    "q2 = Quaternion(5, 6, 7, 8)\n",
    "\n",
    "assert str(q1 + q2) == \"6 + 8i + 10j + 12k\", \"Got: \" + str(q1 + q2)"
   ]
  },
  {
   "cell_type": "markdown",
   "metadata": {},
   "source": [
    "### Implementing the Multiplication Method\n",
    "\n",
    "Now, we want to implement multiplication. The method name is `__mul__`, and it takes the same arguments as the addition method. This means that method signature is\n",
    "\n",
    "```python\n",
    "   def __mul__(self, other):\n",
    "     # method body ending with a return statement\n",
    "```\n",
    "\n",
    "Here the method body will need to be a little more complicated, since there are two possible cases:\n",
    "- If `other` is a scalar number, then we need to multiply each component of the quaternion by `other`.\n",
    "- If `other` is another quaternion, then we need to use the multiplication rule above.\n",
    "\n",
    "We can check the type of `other` using the `isinstance` function. This function takes two arguments, the first is the object to check, and the second is the type to check against. It returns `True` if the object is of the given type, and `False` otherwise. For example, `isinstance(3, int)` returns `True`, and `isinstance(3, float)` returns `False`. In this case, we want to check if the `other` is a `Quaternion` object or not, using `isinstance(other, Quaternion)`.\n",
    "\n",
    "The \"quick\" way to implement scalar multiplication is just to code up the multiplication rule for quaternions, and if `other` is not a `Quaternion` object, then convert it into one with the scalar as the first component, i.e. creating `Quaternion(other, 0, 0, 0)`. Alternatively, you can use a set of `if`, `elif` and (if necessary) `else` statements to handle the cases separately. In the first case, your code will look something like\n",
    "\n",
    "```python\n",
    "def __mul__(self, other):\n",
    "   if not isinstance(other, Quaternion):\n",
    "      other = Quaternion(other, 0, 0, 0)\n",
    "  # rest of the method body    \n",
    "```\n",
    "\n",
    "in the second case, your code will look something like\n",
    "\n",
    "```python\n",
    "def __mul__(self, other):\n",
    "   if isinstance(other, Quaternion):\n",
    "      # result = multiplication rule for quaternion\n",
    "      return result\n",
    "   else:\n",
    "      # multiplication rule for scalar\n",
    "      return result\n",
    "```\n",
    " \n",
    "Try to implement all this, and then run our test cases below."
   ]
  },
  {
   "cell_type": "code",
   "execution_count": 22,
   "metadata": {
    "execution": {
     "iopub.execute_input": "2025-08-13T09:02:07.328326Z",
     "iopub.status.busy": "2025-08-13T09:02:07.328168Z",
     "iopub.status.idle": "2025-08-13T09:02:07.331275Z",
     "shell.execute_reply": "2025-08-13T09:02:07.330755Z"
    },
    "tags": [
     "nbgrader"
    ]
   },
   "outputs": [],
   "source": [
    "q1 = Quaternion(1, 2, 3, 4)\n",
    "q2 = Quaternion(5, 6, 7, 8)\n",
    "\n",
    "assert str(q1 * q2) == \"-60 + 12i + 30j + 24k\", \"Got: \" + str(q1 * q2)\n",
    "assert str(q2 * q1) == \"-60 + 20i + 14j + 32k\", \"Got: \" + str(q2 * q1)\n",
    "assert str(q1 * 3) == \"3 + 6i + 9j + 12k\", \"Got: \" + str(q1 * 3)"
   ]
  },
  {
   "cell_type": "markdown",
   "metadata": {},
   "source": [
    "### Additional Methods\n",
    "\n",
    "We've now implemented a method to multiply \"from the left\", i.e. solving `q * other`, but for the purposes of scalar multiplication, we also need to implement a method to multiply \"from the right\", i.e. solving `other * q`.\n",
    "\n",
    "The appropriate special method (also called a \"magic method\" or \"dunder method\") name is `__rmul__`, and it takes the same arguments as the multiplication method, except this time \"other\" is the object on the left. This means that method signature is\n",
    "\n",
    "```python\n",
    "   def __rmul__(self, other):\n",
    "     # method body ending with a return statement\n",
    "```\n",
    "\n",
    "Note that we can't just call `return self.__mul__(other)` here, since for quaternions, multiplication is not commutative (i.e. `q1 * q2` is not equal to `q2 * q2` for general quaternions `q1` and `q2`). Again there are several ways to solve this, but the one involving least code is to make `other` into a `Quaternion` object if it isn't already, and then call its `__mul__` method on self (either explicity as `other.__mul__(self)` or implicitly through `other*self`).\n",
    "\n"
   ]
  },
  {
   "cell_type": "code",
   "execution_count": 23,
   "metadata": {
    "execution": {
     "iopub.execute_input": "2025-08-13T09:02:07.332759Z",
     "iopub.status.busy": "2025-08-13T09:02:07.332610Z",
     "iopub.status.idle": "2025-08-13T09:02:07.335215Z",
     "shell.execute_reply": "2025-08-13T09:02:07.334689Z"
    },
    "tags": [
     "nbgrader"
    ]
   },
   "outputs": [],
   "source": [
    "q1 = Quaternion(1, 2, 3, 4)\n",
    "\n",
    "assert str(3 * q1) == \"3 + 6i + 9j + 12k\", \"Got: \" + str(3 * q1)"
   ]
  },
  {
   "cell_type": "markdown",
   "metadata": {},
   "source": [
    "We've now implemented the core arthmetic operations for quaternions, and can move on to more advanced features. Let's start by defining the conjugate of a quaternion. Just as the conjugate of a complex number $z= a+b\\mathit{i}$ is $\\bar{z} = a - b\\mathit{i}$,  the conjugate of a quaternion $q = a + b\\mathit{i} + c\\mathit{j} + d\\mathit{k}$ is defined as $\\bar{q} = a - b\\mathit{i} - c\\mathit{j} - \\mathit{k}$. \n",
    "\n",
    "We can implement this as a method `conjugate` that takes no additional arguments, and returns a new quaternion object with the \"imaginary\" parts negated. The method signature should be\n",
    "\n",
    "```python\n",
    "   def conjugate(self):\n",
    "     # method body ending with a return statement\n",
    "```\n",
    "\n",
    "Note that $q\\bar{q} := \\|q\\|^2 = a^2 + b^2 + c^2 + d^2$, which is a positive real number. We can define the inverse or reciprocal of a quaternion as $\\frac{\\bar{q}}{\\|q\\|^2}$, and implement this as a method `inverse`.\n",
    "```python\n",
    "   def inverse(self):\n",
    "     # method body ending with a return statement\n",
    "```\n",
    "It's not technically correct to call this division, due to the non-commutative nature of quaternion multiplication. This means that there are two \"inverse functions\" for multiplication, one which solves $xa = b$ for $x$ and one which solves $ax = b$. Using the notation $a^{-1}$ for the inverse above, the inverse from the right is $ba^{-1}$ and the inverse is $a^{-1}b$.\n",
    "\n",
    "Instead of computing the magnitude $|q|$ inside the `inverse` method, implement the special `__abs__` method. This method will be called when built in `abs` function is called on a Quaternion object. Its signature is:\n",
    "```python\n",
    "   def __abs____(self):\n",
    "     # method body ending with a return statement\n",
    "```\n",
    "\n",
    "Try to implement the `conjugate` and `inverse` methods in your `Quaternion` class above, and then run the test cases below."
   ]
  },
  {
   "cell_type": "code",
   "execution_count": 24,
   "metadata": {
    "execution": {
     "iopub.execute_input": "2025-08-13T09:02:07.336750Z",
     "iopub.status.busy": "2025-08-13T09:02:07.336591Z",
     "iopub.status.idle": "2025-08-13T09:02:07.339785Z",
     "shell.execute_reply": "2025-08-13T09:02:07.339265Z"
    },
    "tags": [
     "nbgrader"
    ]
   },
   "outputs": [],
   "source": [
    "q1 = Quaternion(1, 1, 1, 1)\n",
    "\n",
    "assert str(q1.conjugate()) == \"1 - 1i - 1j - 1k\", \"Got: \" + str(q1.conjugate())\n",
    "assert str(abs(q1)) == \"2.0\", \"Got: \" + str(abs(q1))\n",
    "assert str(q1.inverse()) == \"0.25 - 0.25i - 0.25j - 0.25k\", \"Got: \" + str(q1.inverse())"
   ]
  },
  {
   "cell_type": "markdown",
   "metadata": {},
   "source": [
    "### Refactoring the class (optional)\n",
    "\n",
    "We've now implemented all the basic functionality of quaternions. However, the class is not particularly user-friendly. Here is a list of some things you could improve:\n",
    "\n",
    "- The `__init__` method is currently not very user-friendly. It would be nice if we could create a quaternion in a few extra ways:\n",
    "  - Let `Quaternion(1) == Quaternion(1, 0, 0, 0)`.\n",
    "  - Let `Quaternion(1+2j) == Quaternion(1, 2, 0, 0)`.\n",
    "  - Let `Quaternion([1, 2, 3, 4]) == Quaternion(1, 2, 3, 4)`.\n",
    "  \n",
    "This can be done in a number of ways. One lower effort solution is to use the `*args` and/or `**kwargs` syntax to allow for a variable number of arguments and keyword arguments. "
   ]
  },
  {
   "cell_type": "code",
   "execution_count": 25,
   "metadata": {
    "execution": {
     "iopub.execute_input": "2025-08-13T09:02:07.341414Z",
     "iopub.status.busy": "2025-08-13T09:02:07.341261Z",
     "iopub.status.idle": "2025-08-13T09:02:07.344734Z",
     "shell.execute_reply": "2025-08-13T09:02:07.344228Z"
    }
   },
   "outputs": [
    {
     "name": "stdout",
     "output_type": "stream",
     "text": [
      "(1, 2) {}\n",
      "(1, 2, 3, 4, 5) {}\n",
      "(1, 2, 3, 4, 5) {'a': 6, 'b': 7, 'c': 8}\n"
     ]
    }
   ],
   "source": [
    "def function_with_var_args(*args, **kwargs):\n",
    "    print(args, kwargs)\n",
    "\n",
    "\n",
    "function_with_var_args(1, 2)\n",
    "function_with_var_args(1, 2, 3, 4, 5)\n",
    "function_with_var_args(1, 2, 3, 4, 5, a=6, b=7, c=8)"
   ]
  },
  {
   "cell_type": "markdown",
   "metadata": {},
   "source": [
    "Another things we can implement are:\n",
    "\n",
    "- We have implemented the `__str__` method, but not the `__repr__` method. The `__repr__` method is called when the object is printed in a list or dictionary, and should return a string that can be used to recreate the object. For example, `repr(Quaternion(1, 2, 3, 4))` should return the string `\"Quaternion(1, 2, 3, 4)\"`. If we copy/paste the output of `__repr__`, we should get the same object.\n",
    "- We have implemented the `__add__`, `__mul__` and  `__rmul__`, methods, but not the `__sub__`, `__eq__` methods (or a few others).\n"
   ]
  },
  {
   "cell_type": "code",
   "execution_count": 26,
   "metadata": {
    "execution": {
     "iopub.execute_input": "2025-08-13T09:02:07.346394Z",
     "iopub.status.busy": "2025-08-13T09:02:07.346235Z",
     "iopub.status.idle": "2025-08-13T09:02:07.349561Z",
     "shell.execute_reply": "2025-08-13T09:02:07.349004Z"
    },
    "tags": [
     "nbgrader"
    ]
   },
   "outputs": [
    {
     "ename": "AssertionError",
     "evalue": "",
     "output_type": "error",
     "traceback": [
      "\u001b[1;31m---------------------------------------------------------------------------\u001b[0m",
      "\u001b[1;31mAssertionError\u001b[0m                            Traceback (most recent call last)",
      "Cell \u001b[1;32mIn[26], line 1\u001b[0m\n\u001b[1;32m----> 1\u001b[0m \u001b[38;5;28;01massert\u001b[39;00m \u001b[38;5;28mrepr\u001b[39m(Quaternion(\u001b[38;5;241m1\u001b[39m, \u001b[38;5;241m-\u001b[39m\u001b[38;5;241m2\u001b[39m, \u001b[38;5;241m3\u001b[39m, \u001b[38;5;241m4\u001b[39m)) \u001b[38;5;241m==\u001b[39m \u001b[38;5;124m\"\u001b[39m\u001b[38;5;124mQuaternion(1, -2, 3, 4)\u001b[39m\u001b[38;5;124m\"\u001b[39m\n\u001b[0;32m      3\u001b[0m \u001b[38;5;28;01massert\u001b[39;00m Quaternion(\u001b[38;5;241m1\u001b[39m) \u001b[38;5;241m==\u001b[39m Quaternion(\u001b[38;5;241m1\u001b[39m, \u001b[38;5;241m0\u001b[39m, \u001b[38;5;241m0\u001b[39m, \u001b[38;5;241m0\u001b[39m)\n\u001b[0;32m      4\u001b[0m \u001b[38;5;28;01massert\u001b[39;00m Quaternion(\u001b[38;5;241m1\u001b[39m, \u001b[38;5;241m2\u001b[39m) \u001b[38;5;241m==\u001b[39m Quaternion(\u001b[38;5;241m1\u001b[39m, \u001b[38;5;241m2\u001b[39m, \u001b[38;5;241m0\u001b[39m, \u001b[38;5;241m0\u001b[39m)\n",
      "\u001b[1;31mAssertionError\u001b[0m: "
     ]
    }
   ],
   "source": [
    "assert repr(Quaternion(1, -2, 3, 4)) == \"Quaternion(1, -2, 3, 4)\"\n",
    "\n",
    "assert Quaternion(1) == Quaternion(1, 0, 0, 0)\n",
    "assert Quaternion(1, 2) == Quaternion(1, 2, 0, 0)\n",
    "assert Quaternion(b=2) == Quaternion(0, 2, 0, 0)\n",
    "\n",
    "assert Quaternion(1, 2, 3, 4) - Quaternion(5, 6, 7, 8) == Quaternion(-4, -4, -4, -4)"
   ]
  },
  {
   "cell_type": "code",
   "execution_count": 27,
   "metadata": {
    "execution": {
     "iopub.execute_input": "2025-08-13T09:02:07.351232Z",
     "iopub.status.busy": "2025-08-13T09:02:07.351070Z",
     "iopub.status.idle": "2025-08-13T09:02:07.553163Z",
     "shell.execute_reply": "2025-08-13T09:02:07.552412Z"
    },
    "tags": [
     "pybryt"
    ]
   },
   "outputs": [
    {
     "name": "stdout",
     "output_type": "stream",
     "text": [
      "REFERENCE: exercise-5_1\n",
      "SATISFIED: False\n",
      "MESSAGES:\n",
      "  - ERROR: It looks like the output of your repr method is not correct.\n",
      "  - SUCCESS: Great! Your str method is correctly implemented.\n",
      "  - ERROR: The output of your __add__ method is not as expected.\n",
      "  - ERROR: The output of your __sub__ method is not correct.\n",
      "  - ERROR: Your implementation of multiplication with a scalar is not correct.\n",
      "  - ERROR: The output of your __mul__ method is not correct.\n",
      "  - ERROR: The output of your __abs__ method is not correct.\n",
      "  - ERROR: The conjugate of a quaternion is not correct.\n"
     ]
    },
    {
     "ename": "TypeError",
     "evalue": "unsupported operand type(s) for -: 'Quaternion' and 'Quaternion'",
     "output_type": "error",
     "traceback": [
      "\u001b[1;31m---------------------------------------------------------------------------\u001b[0m",
      "\u001b[1;31mTypeError\u001b[0m                                 Traceback (most recent call last)",
      "Cell \u001b[1;32mIn[27], line 7\u001b[0m\n\u001b[0;32m      5\u001b[0m \u001b[38;5;28mrepr\u001b[39m(q1), \u001b[38;5;28mstr\u001b[39m(q1)\n\u001b[0;32m      6\u001b[0m \u001b[38;5;28mrepr\u001b[39m(q1 \u001b[38;5;241m+\u001b[39m q2)\n\u001b[1;32m----> 7\u001b[0m \u001b[38;5;28mrepr\u001b[39m(q2 \u001b[38;5;241m-\u001b[39m q1)\n\u001b[0;32m      8\u001b[0m \u001b[38;5;28mrepr\u001b[39m(\u001b[38;5;241m5\u001b[39m \u001b[38;5;241m*\u001b[39m q1)\n\u001b[0;32m      9\u001b[0m \u001b[38;5;28mrepr\u001b[39m(q1 \u001b[38;5;241m*\u001b[39m q2)\n",
      "\u001b[1;31mTypeError\u001b[0m: unsupported operand type(s) for -: 'Quaternion' and 'Quaternion'"
     ]
    }
   ],
   "source": [
    "with pybryt.check(pybryt_reference(5, 1)):\n",
    "    q1 = Quaternion(1, -2, 3, -4)\n",
    "    q2 = Quaternion(15, 2, 0, -1)\n",
    "\n",
    "    repr(q1), str(q1)\n",
    "    repr(q1 + q2)\n",
    "    repr(q2 - q1)\n",
    "    repr(5 * q1)\n",
    "    repr(q1 * q2)\n",
    "    abs(q1)\n",
    "    repr(q1.conjugate())"
   ]
  },
  {
   "cell_type": "markdown",
   "metadata": {},
   "source": [
    "## Example 2: Building Triangles\n",
    "\n",
    "### Problem Statement\n",
    "\n",
    "The second example we will consider is building a collection of classes to represent the information present in triangles. We've defined a class for points in two dimensions. You'll then use this to define a class for line segments (defined by two points), and then a class for triangles (defined by three points). We'll then add methods to calculate the area and perimeter of the triangle, and the length of the line segment.\n",
    "\n",
    "### The Point Class Defintion\n",
    "\n",
    " We'll define a class to represent a point in 2D space. You will then need to implement a line segment (to represent an edge for a triangle), and finally a triangle. We will add appropriate methods to each class to calculate the area and perimeter of a triangle and the length of a line segment."
   ]
  },
  {
   "cell_type": "code",
   "execution_count": 28,
   "metadata": {
    "execution": {
     "iopub.execute_input": "2025-08-13T09:02:07.555441Z",
     "iopub.status.busy": "2025-08-13T09:02:07.555200Z",
     "iopub.status.idle": "2025-08-13T09:02:07.558784Z",
     "shell.execute_reply": "2025-08-13T09:02:07.558241Z"
    }
   },
   "outputs": [],
   "source": [
    "from dataclasses import dataclass\n",
    "\n",
    "\n",
    "@dataclass\n",
    "class Point:\n",
    "    x: float\n",
    "    y: float"
   ]
  },
  {
   "cell_type": "markdown",
   "metadata": {},
   "source": [
    "Here we've used the `dataclass` decorator from the `dataclasses` module to define the class. This is a more concise way to define a class, and is particularly useful when the class is just a container for data.\n",
    "\n",
    "The `dataclass` decorator automatically adds an `__init__` method, and `__repr__` method, and `__eq__` method, and a few other things. The `__init__` method takes the same arguments as the class, and the `__repr__` method returns a string that can be used to recreate the object. The `__eq__` method checks if two objects are equal. "
   ]
  },
  {
   "cell_type": "code",
   "execution_count": 29,
   "metadata": {
    "execution": {
     "iopub.execute_input": "2025-08-13T09:02:07.560759Z",
     "iopub.status.busy": "2025-08-13T09:02:07.560572Z",
     "iopub.status.idle": "2025-08-13T09:02:07.563880Z",
     "shell.execute_reply": "2025-08-13T09:02:07.563491Z"
    }
   },
   "outputs": [
    {
     "name": "stdout",
     "output_type": "stream",
     "text": [
      "Point(x=1.0, y=2.0) Point(x=2.5, y=4.0)\n",
      "False\n",
      "True\n"
     ]
    }
   ],
   "source": [
    "# Examples of usage\n",
    "p1 = Point(1.0, 2.0)\n",
    "p2 = Point(x=2.5, y=4.0)\n",
    "\n",
    "print(p1, p2)\n",
    "print(p1 == p2)\n",
    "print(p1 == Point(1.0, 2.0))"
   ]
  },
  {
   "cell_type": "markdown",
   "metadata": {},
   "source": [
    "### The LineSegment Class Implementation\n",
    "\n",
    "Given the `Point` class definition above, we can now implement a `LineSegment` class which takes two `Point` objects as arguments to its `__init__` method. The `__init__` method should store these two points as attributes of the object. We'll also want a `length` method to calculate the length of the line segment."
   ]
  },
  {
   "cell_type": "code",
   "execution_count": 39,
   "metadata": {
    "execution": {
     "iopub.execute_input": "2025-08-13T09:02:07.565361Z",
     "iopub.status.busy": "2025-08-13T09:02:07.565222Z",
     "iopub.status.idle": "2025-08-13T09:02:07.568215Z",
     "shell.execute_reply": "2025-08-13T09:02:07.567691Z"
    }
   },
   "outputs": [],
   "source": [
    "class LineSegment:\n",
    "    def __init__(self, start: Point, end: Point):\n",
    "        self.start = start\n",
    "        self.end = end\n",
    "\n",
    "    def __repr__(self):\n",
    "        return f\"LineSegment({self.start}, {self.end})\"\n",
    "\n",
    "    def length(self) -> float:\n",
    "        dx = self.end.x - self.start.x\n",
    "        dy = self.end.y - self.start.y\n",
    "        return math.sqrt(dx**2 + dy**2)\n",
    "    \n",
    "    def midpoint(self) -> Point:\n",
    "        \"\"\"Return the midpoint as a Point object.\"\"\"\n",
    "        mx = (self.start.x + self.end.x) / 2\n",
    "        my = (self.start.y + self.end.y) / 2\n",
    "        return Point(mx, my)\n",
    "\n",
    "    def intersects(self, other: \"LineSegment\") -> bool:\n",
    "        \"\"\"Return true if this segment intersects with another line segment.\"\"\"\n",
    "\n",
    "        # Represent each line in parametric form:\n",
    "        # r1(t1) = p1 + t1*(p2 - p1)\n",
    "        # r2(t2) = q1 + t2*(q2 - q1)\n",
    "        p1, p2 = self.start, self.end\n",
    "        q1, q2 = other.start, other.end\n",
    "\n",
    "        # Direction vectors\n",
    "        d1x, d1y = p2.x - p1.x, p2.y - p1.y\n",
    "        d2x, d2y = q2.x - q1.x, q2.y - q1.y\n",
    "\n",
    "        # Solve system:\n",
    "        # p1 + t1*d1 = q1 + t2*d2\n",
    "        # => t1*d1x - t2*d2x = q1.x - p1.x\n",
    "        #    t1*d1y - t2*d2y = q1.y - p1.y\n",
    "        A = [[d1x, -d2x],\n",
    "             [d1y, -d2y]]\n",
    "        b = [q1.x - p1.x, q1.y - p1.y]\n",
    "\n",
    "        # Compute determinant\n",
    "        det = A[0][0]*A[1][1] - A[0][1]*A[1][0]\n",
    "        if abs(det) < 1e-10:\n",
    "            # Lines are parallel (no intersection assumed)\n",
    "            return False\n",
    "\n",
    "        # Solve using Cramer's rule\n",
    "        det_t1 = b[0]*A[1][1] - A[0][1]*b[1]\n",
    "        det_t2 = A[0][0]*b[1] - b[0]*A[1][0]\n",
    "\n",
    "        t1 = det_t1 / det\n",
    "        t2 = det_t2 / det\n",
    "\n",
    "        # Intersection only if both parameters are between 0 and 1\n",
    "        return 0 <= t1 <= 1 and 0 <= t2 <= 1"
   ]
  },
  {
   "cell_type": "markdown",
   "metadata": {},
   "source": [
    "Here we've used the optional \"type hints\" feature of Python to specify the types of the arguments to the `__init__` method. This is not necessary (nor it is checked), but can be useful for documentation and for catching errors. The type hints are specified in the method signature, and are separated from the argument name by a colon. For example, `p1: Point` specifies that `p1` is a `Point` object. Similarly, `-> float` suggests that the `length` method returns a `float` object. Once again, this is not checked anywhere, and only provides a hint to the user, either in code or through documentation.\n",
    "\n",
    "We'll also need some tests on the class:"
   ]
  },
  {
   "cell_type": "code",
   "execution_count": 40,
   "metadata": {
    "execution": {
     "iopub.execute_input": "2025-08-13T09:02:07.576719Z",
     "iopub.status.busy": "2025-08-13T09:02:07.576573Z",
     "iopub.status.idle": "2025-08-13T09:02:07.579291Z",
     "shell.execute_reply": "2025-08-13T09:02:07.578888Z"
    },
    "tags": [
     "nbgrader"
    ]
   },
   "outputs": [],
   "source": [
    "import math\n",
    "from math import isclose\n",
    "\n",
    "p1 = Point(0, 0)\n",
    "p2 = Point(3, 4)\n",
    "\n",
    "assert isclose(LineSegment(p1, p2).length(), 5)"
   ]
  },
  {
   "cell_type": "markdown",
   "metadata": {},
   "source": [
    "#### Extending the LineSegment Class\n",
    "\n",
    "\n",
    "- add a method to the `LineSegment` class called `midpoint()`. It should return a `Point` object representing the midpoint of the line segment.\n",
    "- (more challenging) add a method to the `LineSegment` class called `intersects`. It should take another `LineSegment` object as an argument, and return `True` if the two line segments intersect, and `False` otherwise. You can assume that the line segments are not colinear if you'd like to reduce your workload.\n",
    "  As a hint, you can use the following algorithm to check if two line segments intersect:\n",
    "    - We can write any line segment as a parametric equation, i.e. $\\mathbf{r}(t) = \\mathbf{p}_1 + t(\\mathbf{p}_2 - \\mathbf{p}_1)$, where $\\mathbf{p}_1$ and $\\mathbf{p}_2$ are beginning and end of the line segment, and $t$ is a real number between 0 and 1.\n",
    "    - Two line segments intersect if and only if the parametric equations of the two line segments have a common solution, i.e. there exists $t_1$ and $t_2$ such that $\\mathbf{r}_1(t_1) = \\mathbf{r}_2(t_2)$.\n",
    "    - Substituting the parametric equations into the equation $\\mathbf{r}_1(t_1) = \\mathbf{r}_2(t_2)$, we get a system of 2 linear equations in $t_1$ and $t_2$. If the system has a solution (and the values of $t_1$ and $t_2$ are in the range $0-1$), then the line segments intersect."
   ]
  },
  {
   "cell_type": "code",
   "execution_count": 41,
   "metadata": {
    "execution": {
     "iopub.execute_input": "2025-08-13T09:02:07.580986Z",
     "iopub.status.busy": "2025-08-13T09:02:07.580716Z",
     "iopub.status.idle": "2025-08-13T09:02:07.584519Z",
     "shell.execute_reply": "2025-08-13T09:02:07.584149Z"
    },
    "tags": [
     "nbgrader"
    ]
   },
   "outputs": [],
   "source": [
    "p1 = Point(-2, -2)\n",
    "p2 = Point(2, 2)\n",
    "\n",
    "assert LineSegment(p1, p2).midpoint() == Point(0, 0)\n",
    "\n",
    "line_segment1 = LineSegment(Point(0, 0), Point(10, 10))\n",
    "line_segment2 = LineSegment(Point(1, 1), Point(11, 11))\n",
    "line_segment3 = LineSegment(Point(10, 0), Point(0, 10))\n",
    "line_segment4 = LineSegment(Point(0, 0), Point(10, 10))\n",
    "\n",
    "assert not line_segment1.intersects(line_segment2)\n",
    "assert line_segment1.intersects(line_segment3)\n",
    "assert line_segment3.intersects(line_segment4)"
   ]
  },
  {
   "cell_type": "code",
   "execution_count": 42,
   "metadata": {
    "execution": {
     "iopub.execute_input": "2025-08-13T09:02:07.586311Z",
     "iopub.status.busy": "2025-08-13T09:02:07.586148Z",
     "iopub.status.idle": "2025-08-13T09:02:07.780541Z",
     "shell.execute_reply": "2025-08-13T09:02:07.779989Z"
    },
    "tags": [
     "pybryt"
    ]
   },
   "outputs": [
    {
     "name": "stdout",
     "output_type": "stream",
     "text": [
      "REFERENCE: exercise-5_2\n",
      "SATISFIED: True\n",
      "MESSAGES:\n",
      "  - SUCCESS: Your repr method is correctly implemented. Well done!\n",
      "  - SUCCESS: Your length method is correct.\n",
      "  - SUCCESS: Your midpoint calculation (x) is correct.\n",
      "  - SUCCESS: Your midpoint calculation (y) is correct.\n",
      "  - SUCCESS: Your intersection calculation seems to be correct.\n"
     ]
    }
   ],
   "source": [
    "with pybryt.check(pybryt_reference(5, 2)):\n",
    "    l1 = LineSegment(Point(0, 0), Point(1, 1))\n",
    "    l2 = LineSegment(Point(0, 1), Point(1, 0))\n",
    "\n",
    "    repr(l1)\n",
    "    l1.length()\n",
    "    l2.midpoint().x\n",
    "    l2.midpoint().y\n",
    "    l1.intersects(l2)"
   ]
  },
  {
   "cell_type": "markdown",
   "metadata": {},
   "source": [
    "### The Triangle class Implementation\n",
    "\n",
    "Finally, we need to implement a `Triangle` class. We'll choose to use an initialisation method that takes three `Point` objects as arguments, and stores them as attributes of the object. We'll also want methods to calculate the area and perimeter of the triangle."
   ]
  },
  {
   "cell_type": "code",
   "execution_count": 43,
   "metadata": {
    "execution": {
     "iopub.execute_input": "2025-08-13T09:02:07.782454Z",
     "iopub.status.busy": "2025-08-13T09:02:07.782281Z",
     "iopub.status.idle": "2025-08-13T09:02:07.785572Z",
     "shell.execute_reply": "2025-08-13T09:02:07.784948Z"
    }
   },
   "outputs": [],
   "source": [
    "import math\n",
    "\n",
    "class Triangle:\n",
    "    def __init__(self, p1: Point, p2: Point, p3: Point):\n",
    "        self.p1 = p1\n",
    "        self.p2 = p2\n",
    "        self.p3 = p3\n",
    "\n",
    "    def __repr__(self):\n",
    "        return f\"Triangle({self.p1}, {self.p2}, {self.p3})\"\n",
    "\n",
    "    def edges(self) -> tuple:\n",
    "        \"\"\"Return the three edges as LineSegments, ordered around the triangle.\"\"\"\n",
    "        e1 = LineSegment(self.p1, self.p2)\n",
    "        e2 = LineSegment(self.p2, self.p3)\n",
    "        e3 = LineSegment(self.p3, self.p1)\n",
    "        return (e1, e2, e3)\n",
    "\n",
    "    def perimeter(self) -> float:\n",
    "        \"\"\"Return the perimeter of the triangle.\"\"\"\n",
    "        return sum(edge.length() for edge in self.edges())\n",
    "\n",
    "    def area(self) -> float:\n",
    "        \"\"\"Return the area using the shoelace formula.\"\"\"\n",
    "        x1, y1 = self.p1.x, self.p1.y\n",
    "        x2, y2 = self.p2.x, self.p2.y\n",
    "        x3, y3 = self.p3.x, self.p3.y\n",
    "        return abs((x1*(y2-y3) + x2*(y3-y1) + x3*(y1-y2)) / 2.0)\n",
    "\n",
    "    def angles(self) -> tuple:\n",
    "        \"\"\"Return the three interior angles in radians.\"\"\"\n",
    "        e1, e2, e3 = self.edges()\n",
    "\n",
    "        # Side lengths\n",
    "        a = e1.length()  # opposite to p1\n",
    "        b = e2.length()  # opposite to p2\n",
    "        c = e3.length()  # opposite to p3\n",
    "\n",
    "        # Law of cosines\n",
    "        angle1 = math.acos((b**2 + c**2 - a**2) / (2*b*c))\n",
    "        angle2 = math.acos((a**2 + c**2 - b**2) / (2*a*c))\n",
    "        angle3 = math.acos((a**2 + b**2 - c**2) / (2*a*b))\n",
    "\n",
    "        return (angle1, angle2, angle3)\n",
    "\n",
    "    def contains_point(self, pt: Point) -> bool:\n",
    "        \"\"\"Return True if pt lies inside or on the triangle, False otherwise.\"\"\"\n",
    "        verts = [self.p1, self.p2, self.p3]\n",
    "        inside = True\n",
    "        on_edge = False\n",
    "\n",
    "        for i in range(3):\n",
    "            x1, y1 = verts[i].x, verts[i].y\n",
    "            x2, y2 = verts[(i+1)%3].x, verts[(i+1)%3].y\n",
    "\n",
    "            # Edge vector normal\n",
    "            nx, ny = (y2 - y1, x1 - x2)\n",
    "\n",
    "            # Vector from vertex to point\n",
    "            vx, vy = pt.x - x1, pt.y - y1\n",
    "\n",
    "            dot = nx*vx + ny*vy\n",
    "            if dot < -1e-10:  # tolerance for any error\n",
    "                inside = False\n",
    "            elif abs(dot) <= 1e-10:\n",
    "                on_edge = True\n",
    "\n",
    "        return inside or on_edge\n"
   ]
  },
  {
   "cell_type": "code",
   "execution_count": 44,
   "metadata": {
    "execution": {
     "iopub.execute_input": "2025-08-13T09:02:07.796041Z",
     "iopub.status.busy": "2025-08-13T09:02:07.795872Z",
     "iopub.status.idle": "2025-08-13T09:02:07.800201Z",
     "shell.execute_reply": "2025-08-13T09:02:07.799622Z"
    },
    "tags": [
     "nbgrader"
    ]
   },
   "outputs": [],
   "source": [
    "p1 = Point(0, 0)\n",
    "p2 = Point(1, 0)\n",
    "p3 = Point(0, 1)\n",
    "\n",
    "t = Triangle(p1, p2, p3)\n",
    "\n",
    "assert isclose(t.area(), 0.5), \"Check your area calculation\"\n",
    "assert isclose(t.perimeter(), 1 + 1 + math.sqrt(2)), \"Check your perimeter calculation\"\n",
    "assert isclose(t.edges()[0].length(), 1) # made small change to specify .length() instead of the LineSegment object itself\n",
    "assert isclose(t.edges()[1].length(), math.sqrt(2))\n",
    "assert isclose(t.edges()[2].length(), 1)\n",
    "assert isclose(t.angles()[0], math.pi / 4)\n",
    "assert isclose(t.angles()[1], math.pi / 2)\n",
    "assert isclose(t.angles()[2], math.pi / 4)\n",
    "assert not t.contains_point(Point(1, 1))"
   ]
  },
  {
   "cell_type": "markdown",
   "metadata": {},
   "source": [
    "### Extending the Triangle Class\n",
    "\n",
    "- add a new method to the `Triangle` class, `edges()`, that returns a `tuple` containing the three `LineSegment`s which form the edges of the `Triangle`. \n",
    "The edges should be ordered so that the first vertex of the first edge is the first vertex of the triangle, and the second vertex of the first edge is the second vertex of the triangle, as well as being the first vertex of the second edge, and so on.\n",
    "- add a method to the `Triangle` class called  `angles()`. It should return a tuple of three floats, each representing the interior angle _in radians_ of the vertices of the triangle, ordered so that the first angle is at the first vertex of the triangle, and so on.\n",
    "- (more challenging) add a method to the `Triangle` class called `contains_point` that takes a `Point` object as an argument, and returns `True` if the point is inside (or on an edge of) the triangle, and `False` otherwise. You can use the following algorithm to solve this problem:\n",
    "  - For each edge of the triangle, calculate the normal vector to the edge.   you can do this by calculating\n",
    "    $$\\mathbf{n} = \\begin{pmatrix} y_2 - y_1 \\\\ x_1 - x_2 \\end{pmatrix},$$\n",
    "    where $(x_1, y_1)$ and $(x_2, y_2)$ are the coordinates of the two vertices of the edge.\n",
    "  - Calculate the vector from one of the vertices of the edge to the point.\n",
    "  - If the dot product of these two vectors is positive for all edges, then the point is inside the triangle. If the dot product is negative for any edge, then the point is outside the triangle. If the dot product is zero for an edge, (and positive for the others) then the point is on the edge of the triangle.\n",
    "  \n",
    "  You can use additional packages such as  `numpy`if you like, but it is not necessary.\n"
   ]
  },
  {
   "cell_type": "code",
   "execution_count": 45,
   "metadata": {
    "execution": {
     "iopub.execute_input": "2025-08-13T09:02:07.802075Z",
     "iopub.status.busy": "2025-08-13T09:02:07.801894Z",
     "iopub.status.idle": "2025-08-13T09:02:07.805821Z",
     "shell.execute_reply": "2025-08-13T09:02:07.805262Z"
    },
    "tags": [
     "nbgrader"
    ]
   },
   "outputs": [],
   "source": [
    "p1 = Point(0, 0)\n",
    "p2 = Point(1, 0)\n",
    "p3 = Point(0, 1)\n",
    "\n",
    "t = Triangle(p1, p2, p3)\n",
    "\n",
    "assert isclose(t.edges()[0].length(), 1)\n",
    "assert isclose(t.edges()[1].length(), math.sqrt(2))\n",
    "assert isclose(t.edges()[2].length(), 1)\n",
    "assert isclose(t.angles()[0], math.pi / 4)\n",
    "assert isclose(t.angles()[1], math.pi / 2)\n",
    "assert isclose(t.angles()[2], math.pi / 4)\n",
    "assert not t.contains_point(Point(1, 1))"
   ]
  },
  {
   "cell_type": "markdown",
   "metadata": {},
   "source": [
    "### Extending the shape design via inheritance (optional)\n",
    "\n",
    "- We can also extend functionality to allow for more shapes, such as squares, hexagons and so on. The \"best\" way to do this in Python is to define a new \"abstract\" class called `Polygon` that implements reusable methods for generic shapes (where possible) in terms of the Points or edges of the polygon, and then define a new class for each shape that inherits from `Polygon` as a base class and which implements the methods that are specific to that shape (for example the `area` method for a triangle is different to the `area` method for a square).\n",
    "\n",
    "By defining `Polygon` as "
   ]
  },
  {
   "cell_type": "code",
   "execution_count": 46,
   "metadata": {
    "execution": {
     "iopub.execute_input": "2025-08-13T09:02:07.807507Z",
     "iopub.status.busy": "2025-08-13T09:02:07.807339Z",
     "iopub.status.idle": "2025-08-13T09:02:07.810645Z",
     "shell.execute_reply": "2025-08-13T09:02:07.810130Z"
    }
   },
   "outputs": [],
   "source": [
    "from abc import ABC, abstractmethod\n",
    "\n",
    "\n",
    "class Polygon(ABC):\n",
    "    def __init__(self, vertices):\n",
    "        # Write appropriate code here, accepting a collection\n",
    "        # of Points as arguments, a representing a vertex of the polygon.\n",
    "        pass\n",
    "\n",
    "    def perimeter(self):\n",
    "        # Write appropriate code here, returning the perimeter of the polygon\n",
    "        # based on the stored vertices.\n",
    "        pass\n",
    "\n",
    "    def edges(self):\n",
    "        # Write appropriate code here, returning a tuple of LineSegments\n",
    "        # representing the edges of the polygon\n",
    "        pass\n",
    "\n",
    "    @abstractmethod\n",
    "    def area(self):\n",
    "        # Write appropriate code here, returning the area of the polygon\n",
    "        raise NotImplementedError"
   ]
  },
  {
   "cell_type": "code",
   "execution_count": 38,
   "metadata": {
    "execution": {
     "iopub.execute_input": "2025-08-13T09:02:07.812232Z",
     "iopub.status.busy": "2025-08-13T09:02:07.812074Z",
     "iopub.status.idle": "2025-08-13T09:02:07.815096Z",
     "shell.execute_reply": "2025-08-13T09:02:07.814559Z"
    }
   },
   "outputs": [],
   "source": [
    "class Quadrilateral(Polygon):\n",
    "    def __init__(self, a, b, c, d):\n",
    "        # Here, super() will call the __init__ method of the parent class -\n",
    "        # Polygon.__init__().\n",
    "        super().__init__(a, b, c, d)\n",
    "\n",
    "    def area(self):\n",
    "        # Write appropriate code here, returning the area of the quadrilateral.\n",
    "        raise NotImplementedError"
   ]
  },
  {
   "cell_type": "markdown",
   "metadata": {},
   "source": [
    "## Example 3: Designing your own class\n",
    "\n",
    "### Problem Statement\n",
    "\n",
    "The final problem is always the most challenging: designing your own class from scratch. We'll give you a problem statement, and you'll need to design a class to solve it. The problem statement is as follows:\n",
    "\n",
    "Build a class to represent the data provided from a [weather station](https://en.wikipedia.org/wiki/Weather_station). The station has the following fixed data attached to it:\n",
    "- A name (a string)\n",
    "- A location (a tuple of two floats, representing the latitude and longitude)\n",
    "- A height above sea level (a float, representing the height in meters)\n",
    "\n",
    "The station also has (at a minimum) the following data that change over time:\n",
    "\n",
    "- A temperature (a float, representing the temperature in degrees Celsius)\n",
    "- A humidity (a float, representing the humidity as a percentage)\n",
    "- The pressure (a float, representing the pressure in hPa)\n",
    "\n",
    "The class should have methods to do the following:\n",
    "\n",
    "- An initialisation method (`__init__`) that takes the name, location, and height above sea level as arguments, and stores them, as well as doing some initialisation of the temperature, humidity and pressure (plus other variables if you've added them).\n",
    "- A method to update the temperature, humidity, and pressure.\n",
    "- Appropriately implemented `__str__` and `__repr__` methods.\n",
    "- Methods to calculate appropriate \"weather\" metrics, such as the [dew point](https://en.wikipedia.org/wiki/Dew_point) (it's ok to use the simplified formula), the [heat index](https://en.wikipedia.org/wiki/Heat_index), and so on, and to convert between different temperature scales (e.g. Celsius, Fahrenheit, Kelvin). You may want to make use of the `@property` decorator to make these methods feel like attributes to the user."
   ]
  },
  {
   "cell_type": "code",
   "execution_count": 47,
   "metadata": {
    "execution": {
     "iopub.execute_input": "2025-08-13T09:02:07.816679Z",
     "iopub.status.busy": "2025-08-13T09:02:07.816512Z",
     "iopub.status.idle": "2025-08-13T09:02:07.819059Z",
     "shell.execute_reply": "2025-08-13T09:02:07.818482Z"
    }
   },
   "outputs": [],
   "source": [
    "# Write your class here. As with previous examples, you may\n",
    "# want to test aspects of your class as you go along\n",
    "\n",
    "class WeatherStation:\n",
    "    def __init__(self, name: str, location: tuple[float, float], height: float):\n",
    "        self.name = name\n",
    "        self.location = location  # (latitude, longitude)\n",
    "        self.height = height      # meters above sea level\n",
    "\n",
    "        # Initialize dynamic measurements (set to None until updated)\n",
    "        self.temperature = None  # °C\n",
    "        self.humidity = None     # %\n",
    "        self.pressure = None     # hPa\n",
    "\n",
    "    @property\n",
    "    def temp_celsius(self) -> float:\n",
    "        \"\"\"Return the temperature in Celsius.\"\"\"\n",
    "        return self.temperature\n",
    "    \n",
    "    @property\n",
    "    def temp_fahrenheit(self) -> float:\n",
    "        \"\"\"Return the temperature in Fahrenheit.\"\"\"\n",
    "        if self.temperature is None:\n",
    "            return None\n",
    "        return self.temperature * 9/5 + 32\n",
    "    \n",
    "    @property\n",
    "    def temp_kelvin(self) -> float:\n",
    "        \"\"\"Return the temperature in Kelvin.\"\"\"\n",
    "        if self.temperature is None:\n",
    "            return None\n",
    "        return self.temperature + 273.15\n",
    "    \n",
    "    @property\n",
    "    def dew_point(self) -> float:\n",
    "        \"\"\"Return the dew point temperature in Celsius.\"\"\"\n",
    "        if self.temperature is None or self.humidity is None:\n",
    "            return None\n",
    "\n",
    "        a, b = 17.27, 237.7\n",
    "        alpha = (a * self.temperature) / (b + self.temperature) + math.log(self.humidity / 100.0)\n",
    "        return (b * alpha) / (a - alpha)\n",
    "    \n",
    "    @property\n",
    "    def heat_index(self) -> float:\n",
    "        \"\"\"Return the heat index (\"feels like\" temperature) in Celsius,\n",
    "        using the NOAA regression formula.\n",
    "        \"\"\"\n",
    "        if self.temperature is None or self.humidity is None:\n",
    "            return None\n",
    "\n",
    "        # Convert to Fahrenheit for formula\n",
    "        T = self.temperature * 9/5 + 32\n",
    "        RH = self.humidity\n",
    "\n",
    "        # NOAA regression constants, i did not know there were this many\n",
    "        c1 = -42.379\n",
    "        c2 = 2.04901523\n",
    "        c3 = 10.14333127\n",
    "        c4 = -0.22475541\n",
    "        c5 = -6.83783e-3\n",
    "        c6 = -5.481717e-2\n",
    "        c7 = 1.22874e-3\n",
    "        c8 = 8.5282e-4\n",
    "        c9 = -1.99e-6\n",
    "\n",
    "        HI = (c1 + (c2 * T) + (c3 * RH) + (c4 * T * RH) +\n",
    "              (c5 * T**2) + (c6 * RH**2) + (c7 * T**2 * RH) +\n",
    "              (c8 * T * RH**2) + (c9 * T**2 * RH**2))\n",
    "\n",
    "        # Convert back to Celsius\n",
    "        return (HI - 32) * 5/9\n",
    "    \n",
    "    @property\n",
    "    def vapor_pressure(self) -> float:\n",
    "        \"\"\"Return the vapor pressure in hPa based on temperature and relative humidity.\"\"\"\n",
    "        if self.temperature is None or self.humidity is None:\n",
    "            return None\n",
    "\n",
    "        # Saturation vapor pressure (Magnus formula)\n",
    "        T = self.temperature  # °C\n",
    "        e_s = 6.112 * math.exp((17.67 * T) / (T + 243.5))\n",
    "\n",
    "        # Actual vapor pressure\n",
    "        return (self.humidity / 100.0) * e_s\n",
    "    \n",
    "    @property\n",
    "    def relative_humidity(self) -> float:\n",
    "        \"\"\"Return relative humidity (%) based on temperature and vapor pressure.\"\"\"\n",
    "        if self.temperature is None or self.vapor_pressure is None:\n",
    "            return None\n",
    "\n",
    "        # Saturation vapor pressure at current temperature\n",
    "        T = self.temperature\n",
    "        e_s = 6.112 * math.exp((17.67 * T) / (T + 243.5))\n",
    "\n",
    "        # RH as %\n",
    "        return (self.vapor_pressure / e_s) * 100\n",
    "\n",
    "    def __repr__(self):\n",
    "        return (f\"WeatherStation(name={self.name!r}, \"\n",
    "                f\"location={self.location}, \"\n",
    "                f\"height={self.height}, \"\n",
    "                f\"temperature={self.temperature}, \"\n",
    "                f\"humidity={self.humidity}, \"\n",
    "                f\"pressure={self.pressure})\")\n",
    "\n",
    "    def __str__(self):\n",
    "        return (f\"Weather Station '{self.name}' at {self.location}, {self.height} m asl\\n\"\n",
    "                f\"Temp: {self.temperature} °C, \"\n",
    "                f\"Humidity: {self.humidity} %, \"\n",
    "                f\"Pressure: {self.pressure} hPa\")\n"
   ]
  },
  {
   "cell_type": "code",
   "execution_count": 48,
   "metadata": {},
   "outputs": [
    {
     "name": "stdout",
     "output_type": "stream",
     "text": [
      "Weather Station 'Mountain Station' at (40.7812, -73.9665), 2000.0 m asl\n",
      "Temp: 32.0 °C, Humidity: 57.0 %, Pressure: 800.0 hPa\n"
     ]
    }
   ],
   "source": [
    "ws = WeatherStation(\"Mountain Station\", (40.7812, -73.9665), 2000.0)\n",
    "ws.temperature = 32.0\n",
    "ws.humidity = 57.0\n",
    "ws.pressure = 800.0\n",
    "\n",
    "print(ws)"
   ]
  },
  {
   "cell_type": "code",
   "execution_count": 50,
   "metadata": {},
   "outputs": [
    {
     "name": "stdout",
     "output_type": "stream",
     "text": [
      "its all worked, very cool\n"
     ]
    }
   ],
   "source": [
    "from math import isclose\n",
    "\n",
    "# Create a test weather station\n",
    "ws = WeatherStation(\"Test Station\", (0.0, 0.0), 0.0)\n",
    "\n",
    "# Set base measurements\n",
    "ws.temperature = 25.0  # °C\n",
    "ws.humidity = 60.0     # %\n",
    "\n",
    "# --- Dew Point ---\n",
    "expected_dew_point = 16.7\n",
    "assert isclose(ws.dew_point, expected_dew_point, rel_tol=1e-2), f\"Dew point failed: {ws.dew_point}\"\n",
    "\n",
    "# --- Heat Index ---\n",
    "ws.temperature = 30.0\n",
    "ws.humidity = 70.0\n",
    "expected_heat_index = 35.0\n",
    "assert isclose(ws.heat_index, expected_heat_index, rel_tol=1e-2), f\"Heat index failed: {ws.heat_index}\"\n",
    "\n",
    "# --- Vapor Pressure ---\n",
    "ws.temperature = 25.0\n",
    "ws.humidity = 60.0\n",
    "expected_vapor_pressure = 6.112 * (math.exp((17.67 * ws.temperature)/(ws.temperature + 243.5))) * (ws.humidity / 100)\n",
    "assert isclose(ws.vapor_pressure, expected_vapor_pressure, rel_tol=1e-2), f\"Vapor pressure failed: {ws.vapor_pressure}\"\n",
    "\n",
    "# --- Relative Humidity ---\n",
    "# Should match the stored humidity since we computed vapor_pressure from it\n",
    "assert isclose(ws.relative_humidity, ws.humidity, rel_tol=1e-2), f\"Relative humidity failed: {ws.relative_humidity}\"\n",
    "\n",
    "# --- Temperature conversions ---\n",
    "ws.temperature = 20.0\n",
    "assert isclose(ws.temp_celsius, 20.0, rel_tol=1e-6), f\"Temp Celsius failed: {ws.temp_celsius}\"\n",
    "assert isclose(ws.temp_fahrenheit, 68.0, rel_tol=1e-6), f\"Temp Fahrenheit failed: {ws.temp_fahrenheit}\"\n",
    "assert isclose(ws.temp_kelvin, 293.15, rel_tol=1e-6), f\"Temp Kelvin failed: {ws.temp_kelvin}\"\n",
    "\n",
    "print(\"its all worked, very cool\")\n"
   ]
  },
  {
   "cell_type": "code",
   "execution_count": null,
   "metadata": {},
   "outputs": [],
   "source": []
  }
 ],
 "metadata": {
  "kernelspec": {
   "display_name": "Python 3 (ipykernel)",
   "language": "python",
   "name": "python3"
  },
  "language_info": {
   "codemirror_mode": {
    "name": "ipython",
    "version": 3
   },
   "file_extension": ".py",
   "mimetype": "text/x-python",
   "name": "python",
   "nbconvert_exporter": "python",
   "pygments_lexer": "ipython3",
   "version": "3.11.4"
  }
 },
 "nbformat": 4,
 "nbformat_minor": 2
}
